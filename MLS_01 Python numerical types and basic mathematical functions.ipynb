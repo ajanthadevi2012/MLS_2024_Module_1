{
 "cells": [
  {
   "cell_type": "markdown",
   "id": "37564c9c",
   "metadata": {},
   "source": [
    "<h1 style=\"font-size:250%; font-family:cursive; \"><b>Python numerical types and basic mathematical functions - Detailed Video in my YouTube Channel</b><a id=\"0\"></a></h1>\n",
    "\n",
    "\n",
    "<a href=\"https://youtu.be/vTquyH_kFZ0\"><h1 style=\"font-size:250%; font-family:cursive; color:#ff6666;\"><b>Link to this Video Tutorial</b></h1></a>"
   ]
  },
  {
   "cell_type": "code",
   "execution_count": null,
   "id": "54a95095",
   "metadata": {},
   "outputs": [],
   "source": [
    "import numpy as np\n",
    "import scipy as sp"
   ]
  },
  {
   "cell_type": "code",
   "execution_count": null,
   "id": "a50e45c6",
   "metadata": {},
   "outputs": [],
   "source": [
    "# Decimals\n",
    "from decimal import Decimal\n",
    "\n",
    "num1 = Decimal('1.1')\n",
    "num2 = Decimal('1.563')\n",
    "num1 + num2  # Decimal('2.663')"
   ]
  },
  {
   "cell_type": "code",
   "execution_count": null,
   "id": "769ddeac",
   "metadata": {},
   "outputs": [],
   "source": [
    "from decimal import getcontext\n",
    "ctx = getcontext()\n",
    "num = Decimal('1.1')\n",
    "num**4 # Decimal('1.4641')\n",
    "ctx.prec = 4 # set new precision\n",
    "num**4 # Decimal('1.464')"
   ]
  },
  {
   "cell_type": "code",
   "execution_count": null,
   "id": "92d7220b",
   "metadata": {},
   "outputs": [],
   "source": [
    "from decimal import localcontext\n",
    "num = Decimal(\"1.1\")\n",
    "with localcontext() as ctx:\n",
    "    ctx.prec = 2\n",
    "    num**4 # Decimal('1.5')\n",
    "num**4 # Decimal('1.4641')\n",
    "\n"
   ]
  },
  {
   "cell_type": "code",
   "execution_count": null,
   "id": "4eec026c",
   "metadata": {},
   "outputs": [],
   "source": [
    "# FRaction\n",
    "from fractions import Fraction\n",
    "num1 = Fraction(1, 3)\n",
    "num2 = Fraction(1, 7)\n",
    "num1 * num2  # Fraction(1, 21)\n"
   ]
  },
  {
   "cell_type": "code",
   "execution_count": null,
   "id": "bcb237a8",
   "metadata": {},
   "outputs": [],
   "source": [
    "# complex\n",
    "\n",
    "z = 1 + 1j\n",
    "z + 2 # 3 + 1j\n"
   ]
  },
  {
   "cell_type": "code",
   "execution_count": null,
   "id": "c6fa6e81",
   "metadata": {},
   "outputs": [],
   "source": [
    "z.conjugate() # 1 - 1j"
   ]
  },
  {
   "cell_type": "code",
   "execution_count": null,
   "id": "7094fe91",
   "metadata": {},
   "outputs": [],
   "source": [
    "import math\n",
    "\n",
    "math.sqrt(4)  # 2.0"
   ]
  },
  {
   "cell_type": "code",
   "execution_count": null,
   "id": "e13f77bd",
   "metadata": {},
   "outputs": [],
   "source": [
    "theta = math.pi / 4\n",
    "print(math.cos(theta))  # 0.7071067811865476\n",
    "print(math.sin(theta))  # 0.7071067811865475\n",
    "print(math.tan(theta)) # 0.9999999999999999\n"
   ]
  },
  {
   "cell_type": "code",
   "execution_count": null,
   "id": "4a98eaa5",
   "metadata": {},
   "outputs": [],
   "source": [
    "\n",
    "print(math.asin(-1)) # -1.5707963267948966\n",
    "print(math.acos(-1))  # 3.141592653589793\n",
    "print(math.atan(1))  # 0.7853981633974483\n"
   ]
  },
  {
   "cell_type": "code",
   "execution_count": null,
   "id": "79e7ad21",
   "metadata": {},
   "outputs": [],
   "source": [
    "print(math.log(10))  # 2.302585092994046\n",
    "print(math.log(10, 10))  # 1.0"
   ]
  },
  {
   "cell_type": "code",
   "execution_count": null,
   "id": "eb863ce1",
   "metadata": {},
   "outputs": [],
   "source": [
    "print(math.gamma(5)) # 24.0\n",
    "print(math.erf(2)) # 0.9953222650189527"
   ]
  },
  {
   "cell_type": "code",
   "execution_count": null,
   "id": "81934ebf",
   "metadata": {},
   "outputs": [],
   "source": [
    "print(math.comb(5, 2)) # 10\n",
    "print(math.factorial(5)) # 120"
   ]
  },
  {
   "cell_type": "code",
   "execution_count": null,
   "id": "2e69ff23",
   "metadata": {},
   "outputs": [],
   "source": [
    "print(math.gcd(2, 4)) # 2\n",
    "print(math.gcd(2, 3)) # 1"
   ]
  },
  {
   "cell_type": "code",
   "execution_count": null,
   "id": "5276f089",
   "metadata": {},
   "outputs": [],
   "source": [
    "nums = [0.1]*10 # list containing 0.1 ten times\n",
    "sum(nums) # 0.9999999999999999\n",
    "math.fsum(nums) # 1.0"
   ]
  },
  {
   "cell_type": "code",
   "execution_count": null,
   "id": "549f127f",
   "metadata": {},
   "outputs": [],
   "source": [
    "arr = np.array([1, 2, 3, 4])"
   ]
  },
  {
   "cell_type": "code",
   "execution_count": null,
   "id": "d328c6d9",
   "metadata": {},
   "outputs": [],
   "source": [
    "arr"
   ]
  },
  {
   "cell_type": "code",
   "execution_count": null,
   "id": "5696b5a7",
   "metadata": {},
   "outputs": [],
   "source": [
    "np.array([1, 2, 3, 4], dtype=np.float32)"
   ]
  },
  {
   "cell_type": "code",
   "execution_count": null,
   "id": "84abb850",
   "metadata": {},
   "outputs": [],
   "source": [
    "arr1 = np.array([1, 2, 3, 4])\n",
    "print(arr.dtype)"
   ]
  },
  {
   "cell_type": "code",
   "execution_count": null,
   "id": "fee09a49",
   "metadata": {},
   "outputs": [],
   "source": [
    "arr.dtype = np.float32\n",
    "print(arr)"
   ]
  },
  {
   "cell_type": "code",
   "execution_count": null,
   "id": "138c60eb",
   "metadata": {},
   "outputs": [],
   "source": [
    "arr = arr1.astype(np.float32)\n",
    "print(arr)"
   ]
  },
  {
   "cell_type": "code",
   "execution_count": null,
   "id": "c3edbd69",
   "metadata": {},
   "outputs": [],
   "source": [
    "arr = np.array([1, 2, 3, 4])\n",
    "arr[0]\n"
   ]
  },
  {
   "cell_type": "code",
   "execution_count": null,
   "id": "1d212b19",
   "metadata": {},
   "outputs": [],
   "source": [
    "arr[2]"
   ]
  },
  {
   "cell_type": "code",
   "execution_count": null,
   "id": "2af6d186",
   "metadata": {},
   "outputs": [],
   "source": [
    "first_two = arr[:2] # array([1, 2])\n",
    "first_two"
   ]
  },
  {
   "cell_type": "code",
   "execution_count": null,
   "id": "5967ef0d",
   "metadata": {},
   "outputs": [],
   "source": [
    "even_idx = arr[::2] # array([1, 3])\n",
    "even_idx"
   ]
  },
  {
   "cell_type": "code",
   "execution_count": null,
   "id": "4fdf3bf3",
   "metadata": {},
   "outputs": [],
   "source": [
    "arr_a = np.array([1, 2, 3, 4])\n",
    "arr_b = np.array([1, 0, -3, 1])\n",
    "arr_a"
   ]
  },
  {
   "cell_type": "code",
   "execution_count": null,
   "id": "31e463db",
   "metadata": {},
   "outputs": [],
   "source": [
    "arr_b"
   ]
  },
  {
   "cell_type": "code",
   "execution_count": null,
   "id": "8db88ddf",
   "metadata": {},
   "outputs": [],
   "source": [
    "arr_a + arr_b "
   ]
  },
  {
   "cell_type": "code",
   "execution_count": null,
   "id": "bc1d5ff7",
   "metadata": {},
   "outputs": [],
   "source": [
    "arr_a - arr_b "
   ]
  },
  {
   "cell_type": "code",
   "execution_count": null,
   "id": "9d8e34d1",
   "metadata": {},
   "outputs": [],
   "source": [
    "arr_a * arr_b"
   ]
  },
  {
   "cell_type": "code",
   "execution_count": null,
   "id": "8325ab81",
   "metadata": {},
   "outputs": [],
   "source": [
    "arr_b / arr_a "
   ]
  },
  {
   "cell_type": "code",
   "execution_count": null,
   "id": "b63d523d",
   "metadata": {},
   "outputs": [],
   "source": [
    "arr_b**arr_a "
   ]
  },
  {
   "cell_type": "code",
   "execution_count": null,
   "id": "0b1b33ff",
   "metadata": {},
   "outputs": [],
   "source": [
    "arr = np.array([1, 2, 3, 4])\n",
    "new = 2*arr\n",
    "print(new)"
   ]
  },
  {
   "cell_type": "code",
   "execution_count": null,
   "id": "75a6a217",
   "metadata": {},
   "outputs": [],
   "source": []
  }
 ],
 "metadata": {
  "kernelspec": {
   "display_name": "Python 3 (ipykernel)",
   "language": "python",
   "name": "python3"
  },
  "language_info": {
   "codemirror_mode": {
    "name": "ipython",
    "version": 3
   },
   "file_extension": ".py",
   "mimetype": "text/x-python",
   "name": "python",
   "nbconvert_exporter": "python",
   "pygments_lexer": "ipython3",
   "version": "3.9.13"
  }
 },
 "nbformat": 4,
 "nbformat_minor": 5
}
